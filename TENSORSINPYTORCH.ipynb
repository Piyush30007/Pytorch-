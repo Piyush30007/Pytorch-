{
 "cells": [
  {
   "cell_type": "code",
   "execution_count": 3,
   "id": "cb3c4eb5",
   "metadata": {},
   "outputs": [
    {
     "name": "stdout",
     "output_type": "stream",
     "text": [
      "Requirement already satisfied: torch in c:\\users\\piyush singh\\anaconda3\\envs\\myenv2\\lib\\site-packages (2.7.1)\n",
      "Collecting torchvision\n",
      "  Using cached torchvision-0.23.0-cp310-cp310-win_amd64.whl.metadata (6.1 kB)\n",
      "Collecting torchaudio\n",
      "  Downloading torchaudio-2.8.0-cp310-cp310-win_amd64.whl.metadata (7.2 kB)\n",
      "Requirement already satisfied: filelock in c:\\users\\piyush singh\\anaconda3\\envs\\myenv2\\lib\\site-packages (from torch) (3.18.0)\n",
      "Requirement already satisfied: typing-extensions>=4.10.0 in c:\\users\\piyush singh\\anaconda3\\envs\\myenv2\\lib\\site-packages (from torch) (4.12.2)\n",
      "Requirement already satisfied: sympy>=1.13.3 in c:\\users\\piyush singh\\anaconda3\\envs\\myenv2\\lib\\site-packages (from torch) (1.14.0)\n",
      "Requirement already satisfied: networkx in c:\\users\\piyush singh\\anaconda3\\envs\\myenv2\\lib\\site-packages (from torch) (3.4.2)\n",
      "Requirement already satisfied: jinja2 in c:\\users\\piyush singh\\anaconda3\\envs\\myenv2\\lib\\site-packages (from torch) (3.1.6)\n",
      "Requirement already satisfied: fsspec in c:\\users\\piyush singh\\anaconda3\\envs\\myenv2\\lib\\site-packages (from torch) (2025.5.1)\n",
      "Requirement already satisfied: numpy in c:\\users\\piyush singh\\anaconda3\\envs\\myenv2\\lib\\site-packages (from torchvision) (2.1.3)\n",
      "Collecting torch\n",
      "  Using cached torch-2.8.0-cp310-cp310-win_amd64.whl.metadata (30 kB)\n",
      "Requirement already satisfied: pillow!=8.3.*,>=5.3.0 in c:\\users\\piyush singh\\anaconda3\\envs\\myenv2\\lib\\site-packages (from torchvision) (11.2.1)\n",
      "Requirement already satisfied: mpmath<1.4,>=1.1.0 in c:\\users\\piyush singh\\anaconda3\\envs\\myenv2\\lib\\site-packages (from sympy>=1.13.3->torch) (1.3.0)\n",
      "Requirement already satisfied: MarkupSafe>=2.0 in c:\\users\\piyush singh\\anaconda3\\envs\\myenv2\\lib\\site-packages (from jinja2->torch) (3.0.2)\n",
      "Using cached torchvision-0.23.0-cp310-cp310-win_amd64.whl (1.6 MB)\n",
      "Using cached torch-2.8.0-cp310-cp310-win_amd64.whl (241.4 MB)\n",
      "Downloading torchaudio-2.8.0-cp310-cp310-win_amd64.whl (2.5 MB)\n",
      "   ---------------------------------------- 0.0/2.5 MB ? eta -:--:--\n",
      "   ---------------------------------------- 2.5/2.5 MB 28.7 MB/s eta 0:00:00\n",
      "Installing collected packages: torch, torchvision, torchaudio\n",
      "\n",
      "  Attempting uninstall: torch\n",
      "\n",
      "    Found existing installation: torch 2.7.1\n",
      "\n",
      "   ---------------------------------------- 0/3 [torch]\n",
      "   ---------------------------------------- 0/3 [torch]\n",
      "   ---------------------------------------- 0/3 [torch]\n",
      "   ---------------------------------------- 0/3 [torch]\n",
      "   ---------------------------------------- 0/3 [torch]\n",
      "   ---------------------------------------- 0/3 [torch]\n",
      "   ---------------------------------------- 0/3 [torch]\n",
      "   ---------------------------------------- 0/3 [torch]\n",
      "   ---------------------------------------- 0/3 [torch]\n",
      "   ---------------------------------------- 0/3 [torch]\n",
      "   ---------------------------------------- 0/3 [torch]\n",
      "   ---------------------------------------- 0/3 [torch]\n",
      "   ---------------------------------------- 0/3 [torch]\n",
      "   ---------------------------------------- 0/3 [torch]\n",
      "   ---------------------------------------- 0/3 [torch]\n",
      "    Uninstalling torch-2.7.1:\n",
      "   ---------------------------------------- 0/3 [torch]\n",
      "   ---------------------------------------- 0/3 [torch]\n",
      "   ---------------------------------------- 0/3 [torch]\n",
      "   ---------------------------------------- 0/3 [torch]\n",
      "      Successfully uninstalled torch-2.7.1\n",
      "   ---------------------------------------- 0/3 [torch]\n",
      "   ---------------------------------------- 0/3 [torch]\n",
      "   ---------------------------------------- 0/3 [torch]\n",
      "   ---------------------------------------- 0/3 [torch]\n",
      "   ---------------------------------------- 0/3 [torch]\n",
      "   ---------------------------------------- 0/3 [torch]\n",
      "   ---------------------------------------- 0/3 [torch]\n",
      "   ---------------------------------------- 0/3 [torch]\n",
      "   ---------------------------------------- 0/3 [torch]\n",
      "   ---------------------------------------- 0/3 [torch]\n",
      "   ---------------------------------------- 0/3 [torch]\n",
      "   ---------------------------------------- 0/3 [torch]\n",
      "   ---------------------------------------- 0/3 [torch]\n",
      "   ---------------------------------------- 0/3 [torch]\n",
      "   ---------------------------------------- 0/3 [torch]\n",
      "   ---------------------------------------- 0/3 [torch]\n",
      "   ---------------------------------------- 0/3 [torch]\n",
      "   ---------------------------------------- 0/3 [torch]\n",
      "   ---------------------------------------- 0/3 [torch]\n",
      "   ---------------------------------------- 0/3 [torch]\n",
      "   ---------------------------------------- 0/3 [torch]\n",
      "   ---------------------------------------- 0/3 [torch]\n",
      "   ---------------------------------------- 0/3 [torch]\n",
      "   ---------------------------------------- 0/3 [torch]\n",
      "   ---------------------------------------- 0/3 [torch]\n",
      "   ---------------------------------------- 0/3 [torch]\n",
      "   ---------------------------------------- 0/3 [torch]\n",
      "   ---------------------------------------- 0/3 [torch]\n",
      "   ---------------------------------------- 0/3 [torch]\n",
      "   ---------------------------------------- 0/3 [torch]\n",
      "   ---------------------------------------- 0/3 [torch]\n",
      "   ---------------------------------------- 0/3 [torch]\n",
      "   ---------------------------------------- 0/3 [torch]\n",
      "   ---------------------------------------- 0/3 [torch]\n",
      "   ---------------------------------------- 0/3 [torch]\n",
      "   ---------------------------------------- 0/3 [torch]\n",
      "   ---------------------------------------- 0/3 [torch]\n",
      "   ---------------------------------------- 0/3 [torch]\n",
      "   ---------------------------------------- 0/3 [torch]\n",
      "   ---------------------------------------- 0/3 [torch]\n",
      "   ---------------------------------------- 0/3 [torch]\n",
      "   ---------------------------------------- 0/3 [torch]\n",
      "   ---------------------------------------- 0/3 [torch]\n",
      "   ---------------------------------------- 0/3 [torch]\n",
      "   ---------------------------------------- 0/3 [torch]\n",
      "   ---------------------------------------- 0/3 [torch]\n",
      "   ---------------------------------------- 0/3 [torch]\n",
      "   ---------------------------------------- 0/3 [torch]\n",
      "   ---------------------------------------- 0/3 [torch]\n",
      "   ---------------------------------------- 0/3 [torch]\n",
      "   ---------------------------------------- 0/3 [torch]\n",
      "   ---------------------------------------- 0/3 [torch]\n",
      "   ---------------------------------------- 0/3 [torch]\n",
      "   ---------------------------------------- 0/3 [torch]\n",
      "   ---------------------------------------- 0/3 [torch]\n",
      "   ---------------------------------------- 0/3 [torch]\n",
      "   ---------------------------------------- 0/3 [torch]\n",
      "   ---------------------------------------- 0/3 [torch]\n",
      "   ---------------------------------------- 0/3 [torch]\n",
      "   ---------------------------------------- 0/3 [torch]\n",
      "   ---------------------------------------- 0/3 [torch]\n",
      "   ---------------------------------------- 0/3 [torch]\n",
      "   ---------------------------------------- 0/3 [torch]\n",
      "   ---------------------------------------- 0/3 [torch]\n",
      "   ---------------------------------------- 0/3 [torch]\n",
      "   ---------------------------------------- 0/3 [torch]\n",
      "   ---------------------------------------- 0/3 [torch]\n",
      "   ---------------------------------------- 0/3 [torch]\n",
      "   ---------------------------------------- 0/3 [torch]\n",
      "   ---------------------------------------- 0/3 [torch]\n",
      "   ---------------------------------------- 0/3 [torch]\n",
      "   ---------------------------------------- 0/3 [torch]\n",
      "   ---------------------------------------- 0/3 [torch]\n",
      "   ---------------------------------------- 0/3 [torch]\n",
      "   ---------------------------------------- 0/3 [torch]\n",
      "   ---------------------------------------- 0/3 [torch]\n",
      "   ---------------------------------------- 0/3 [torch]\n",
      "   ---------------------------------------- 0/3 [torch]\n",
      "   ---------------------------------------- 0/3 [torch]\n",
      "   ---------------------------------------- 0/3 [torch]\n",
      "   ---------------------------------------- 0/3 [torch]\n",
      "   ---------------------------------------- 0/3 [torch]\n",
      "   ---------------------------------------- 0/3 [torch]\n",
      "   ---------------------------------------- 0/3 [torch]\n",
      "   ---------------------------------------- 0/3 [torch]\n",
      "   ---------------------------------------- 0/3 [torch]\n",
      "   ---------------------------------------- 0/3 [torch]\n",
      "   ---------------------------------------- 0/3 [torch]\n",
      "   ---------------------------------------- 0/3 [torch]\n",
      "   ---------------------------------------- 0/3 [torch]\n",
      "   ---------------------------------------- 0/3 [torch]\n",
      "   ---------------------------------------- 0/3 [torch]\n",
      "   ---------------------------------------- 0/3 [torch]\n",
      "   ---------------------------------------- 0/3 [torch]\n",
      "   ---------------------------------------- 0/3 [torch]\n",
      "   ---------------------------------------- 0/3 [torch]\n",
      "   ---------------------------------------- 0/3 [torch]\n",
      "   ---------------------------------------- 0/3 [torch]\n",
      "   ---------------------------------------- 0/3 [torch]\n",
      "   ---------------------------------------- 0/3 [torch]\n",
      "   ---------------------------------------- 0/3 [torch]\n",
      "   ---------------------------------------- 0/3 [torch]\n",
      "   ---------------------------------------- 0/3 [torch]\n",
      "   ---------------------------------------- 0/3 [torch]\n",
      "   ---------------------------------------- 0/3 [torch]\n",
      "   ---------------------------------------- 0/3 [torch]\n",
      "   ---------------------------------------- 0/3 [torch]\n",
      "   ---------------------------------------- 0/3 [torch]\n",
      "   ---------------------------------------- 0/3 [torch]\n",
      "   ---------------------------------------- 0/3 [torch]\n",
      "   ---------------------------------------- 0/3 [torch]\n",
      "   ---------------------------------------- 0/3 [torch]\n",
      "   ---------------------------------------- 0/3 [torch]\n",
      "   ---------------------------------------- 0/3 [torch]\n",
      "   ---------------------------------------- 0/3 [torch]\n",
      "   ---------------------------------------- 0/3 [torch]\n",
      "   ---------------------------------------- 0/3 [torch]\n",
      "   ---------------------------------------- 0/3 [torch]\n",
      "   ---------------------------------------- 0/3 [torch]\n",
      "   ---------------------------------------- 0/3 [torch]\n",
      "   ---------------------------------------- 0/3 [torch]\n",
      "   ---------------------------------------- 0/3 [torch]\n",
      "   ---------------------------------------- 0/3 [torch]\n",
      "   ---------------------------------------- 0/3 [torch]\n",
      "   ---------------------------------------- 0/3 [torch]\n",
      "   ---------------------------------------- 0/3 [torch]\n",
      "   ---------------------------------------- 0/3 [torch]\n",
      "   ---------------------------------------- 0/3 [torch]\n",
      "   ---------------------------------------- 0/3 [torch]\n",
      "   ---------------------------------------- 0/3 [torch]\n",
      "   ---------------------------------------- 0/3 [torch]\n",
      "   ---------------------------------------- 0/3 [torch]\n",
      "   ---------------------------------------- 0/3 [torch]\n",
      "   ---------------------------------------- 0/3 [torch]\n",
      "   ---------------------------------------- 0/3 [torch]\n",
      "   ---------------------------------------- 0/3 [torch]\n",
      "   ---------------------------------------- 0/3 [torch]\n",
      "   ---------------------------------------- 0/3 [torch]\n",
      "   ---------------------------------------- 0/3 [torch]\n",
      "   ---------------------------------------- 0/3 [torch]\n",
      "   ---------------------------------------- 0/3 [torch]\n",
      "   ---------------------------------------- 0/3 [torch]\n",
      "   ---------------------------------------- 0/3 [torch]\n",
      "   ---------------------------------------- 0/3 [torch]\n",
      "   ---------------------------------------- 0/3 [torch]\n",
      "   ---------------------------------------- 0/3 [torch]\n",
      "   ---------------------------------------- 0/3 [torch]\n",
      "   ---------------------------------------- 0/3 [torch]\n",
      "   ---------------------------------------- 0/3 [torch]\n",
      "   ---------------------------------------- 0/3 [torch]\n",
      "   ---------------------------------------- 0/3 [torch]\n",
      "   ---------------------------------------- 0/3 [torch]\n",
      "   ---------------------------------------- 0/3 [torch]\n",
      "   ---------------------------------------- 0/3 [torch]\n",
      "   ---------------------------------------- 0/3 [torch]\n",
      "   ---------------------------------------- 0/3 [torch]\n",
      "   ---------------------------------------- 0/3 [torch]\n",
      "   ---------------------------------------- 0/3 [torch]\n",
      "   ---------------------------------------- 0/3 [torch]\n",
      "   ---------------------------------------- 0/3 [torch]\n",
      "   ---------------------------------------- 0/3 [torch]\n",
      "   ---------------------------------------- 0/3 [torch]\n",
      "   ---------------------------------------- 0/3 [torch]\n",
      "   ---------------------------------------- 0/3 [torch]\n",
      "   ---------------------------------------- 0/3 [torch]\n",
      "   ---------------------------------------- 0/3 [torch]\n",
      "   ---------------------------------------- 0/3 [torch]\n",
      "   ---------------------------------------- 0/3 [torch]\n",
      "   ---------------------------------------- 0/3 [torch]\n",
      "   ---------------------------------------- 0/3 [torch]\n",
      "   ---------------------------------------- 0/3 [torch]\n",
      "   ---------------------------------------- 0/3 [torch]\n",
      "   ---------------------------------------- 0/3 [torch]\n",
      "   ---------------------------------------- 0/3 [torch]\n",
      "   ---------------------------------------- 0/3 [torch]\n",
      "   ---------------------------------------- 0/3 [torch]\n",
      "   ---------------------------------------- 0/3 [torch]\n",
      "   ---------------------------------------- 0/3 [torch]\n",
      "   ---------------------------------------- 0/3 [torch]\n",
      "   ---------------------------------------- 0/3 [torch]\n",
      "   ---------------------------------------- 0/3 [torch]\n",
      "   ---------------------------------------- 0/3 [torch]\n",
      "   ---------------------------------------- 0/3 [torch]\n",
      "   ---------------------------------------- 0/3 [torch]\n",
      "   ---------------------------------------- 0/3 [torch]\n",
      "   ---------------------------------------- 0/3 [torch]\n",
      "   ---------------------------------------- 0/3 [torch]\n",
      "   ---------------------------------------- 0/3 [torch]\n",
      "   ---------------------------------------- 0/3 [torch]\n",
      "   ---------------------------------------- 0/3 [torch]\n",
      "   ---------------------------------------- 0/3 [torch]\n",
      "   ---------------------------------------- 0/3 [torch]\n",
      "   ---------------------------------------- 0/3 [torch]\n",
      "   ---------------------------------------- 0/3 [torch]\n",
      "   ---------------------------------------- 0/3 [torch]\n",
      "   ---------------------------------------- 0/3 [torch]\n",
      "   ---------------------------------------- 0/3 [torch]\n",
      "   ---------------------------------------- 0/3 [torch]\n",
      "   ---------------------------------------- 0/3 [torch]\n",
      "   ---------------------------------------- 0/3 [torch]\n",
      "   ---------------------------------------- 0/3 [torch]\n",
      "   ---------------------------------------- 0/3 [torch]\n",
      "   ---------------------------------------- 0/3 [torch]\n",
      "   ---------------------------------------- 0/3 [torch]\n",
      "   ---------------------------------------- 0/3 [torch]\n",
      "   ---------------------------------------- 0/3 [torch]\n",
      "   ---------------------------------------- 0/3 [torch]\n",
      "   ---------------------------------------- 0/3 [torch]\n",
      "   ---------------------------------------- 0/3 [torch]\n",
      "   ---------------------------------------- 0/3 [torch]\n",
      "   ---------------------------------------- 0/3 [torch]\n",
      "   ---------------------------------------- 0/3 [torch]\n",
      "   ---------------------------------------- 0/3 [torch]\n",
      "   ------------- -------------------------- 1/3 [torchvision]\n",
      "   ------------- -------------------------- 1/3 [torchvision]\n",
      "   ------------- -------------------------- 1/3 [torchvision]\n",
      "   ------------- -------------------------- 1/3 [torchvision]\n",
      "   ------------- -------------------------- 1/3 [torchvision]\n",
      "   ------------- -------------------------- 1/3 [torchvision]\n",
      "   ------------- -------------------------- 1/3 [torchvision]\n",
      "   ------------- -------------------------- 1/3 [torchvision]\n",
      "   -------------------------- ------------- 2/3 [torchaudio]\n",
      "   -------------------------- ------------- 2/3 [torchaudio]\n",
      "   -------------------------- ------------- 2/3 [torchaudio]\n",
      "   -------------------------- ------------- 2/3 [torchaudio]\n",
      "   -------------------------- ------------- 2/3 [torchaudio]\n",
      "   -------------------------- ------------- 2/3 [torchaudio]\n",
      "   ---------------------------------------- 3/3 [torchaudio]\n",
      "\n",
      "Successfully installed torch-2.8.0 torchaudio-2.8.0 torchvision-0.23.0\n"
     ]
    }
   ],
   "source": [
    "!pip install torch torchvision torchaudio\n"
   ]
  },
  {
   "cell_type": "code",
   "execution_count": 4,
   "id": "f7fee064",
   "metadata": {},
   "outputs": [],
   "source": [
    "import torch\n",
    "import torchvision"
   ]
  },
  {
   "cell_type": "code",
   "execution_count": 5,
   "id": "c1f20113",
   "metadata": {},
   "outputs": [],
   "source": [
    "a = torch.empty(2,3)"
   ]
  },
  {
   "cell_type": "code",
   "execution_count": 6,
   "id": "a134af0a",
   "metadata": {},
   "outputs": [
    {
     "data": {
      "text/plain": [
       "torch.Tensor"
      ]
     },
     "execution_count": 6,
     "metadata": {},
     "output_type": "execute_result"
    }
   ],
   "source": [
    "#check type\n",
    "type(a)"
   ]
  },
  {
   "cell_type": "code",
   "execution_count": 7,
   "id": "1f8c3f4e",
   "metadata": {},
   "outputs": [],
   "source": [
    "#using zeros\n",
    "b = torch.zeros(2,3)"
   ]
  },
  {
   "cell_type": "code",
   "execution_count": 8,
   "id": "4b23e230",
   "metadata": {},
   "outputs": [
    {
     "data": {
      "text/plain": [
       "tensor([[0., 0., 0.],\n",
       "        [0., 0., 0.]])"
      ]
     },
     "execution_count": 8,
     "metadata": {},
     "output_type": "execute_result"
    }
   ],
   "source": [
    "b"
   ]
  },
  {
   "cell_type": "code",
   "execution_count": 9,
   "id": "117d4794",
   "metadata": {},
   "outputs": [
    {
     "data": {
      "text/plain": [
       "tensor([[1., 1., 1.],\n",
       "        [1., 1., 1.]])"
      ]
     },
     "execution_count": 9,
     "metadata": {},
     "output_type": "execute_result"
    }
   ],
   "source": [
    "#using ones\n",
    "c = torch.ones(2,3)\n",
    "c"
   ]
  },
  {
   "cell_type": "code",
   "execution_count": 10,
   "id": "41939da8",
   "metadata": {},
   "outputs": [
    {
     "data": {
      "text/plain": [
       "tensor([[0.5558, 0.5735, 0.6243],\n",
       "        [0.1680, 0.5929, 0.2265]])"
      ]
     },
     "execution_count": 10,
     "metadata": {},
     "output_type": "execute_result"
    }
   ],
   "source": [
    "#using rand \n",
    "torch.rand(2,3)"
   ]
  },
  {
   "cell_type": "code",
   "execution_count": 13,
   "id": "6db941df",
   "metadata": {},
   "outputs": [
    {
     "data": {
      "text/plain": [
       "tensor([[0.1117, 0.8158, 0.2626],\n",
       "        [0.4839, 0.6765, 0.7539]])"
      ]
     },
     "execution_count": 13,
     "metadata": {},
     "output_type": "execute_result"
    }
   ],
   "source": [
    "#use of seed \n",
    "torch.manual_seed(100)\n",
    "torch.rand(2,3)\n",
    "# same code koi aur run karega if seed same hoga to output bhi same hoga"
   ]
  },
  {
   "cell_type": "code",
   "execution_count": 16,
   "id": "32a04161",
   "metadata": {},
   "outputs": [
    {
     "data": {
      "text/plain": [
       "tensor([[5, 9, 3],\n",
       "        [4, 5, 6]])"
      ]
     },
     "execution_count": 16,
     "metadata": {},
     "output_type": "execute_result"
    }
   ],
   "source": [
    "#using tensor\n",
    "torch.tensor([[5,9,3],[4,5,6]])"
   ]
  },
  {
   "cell_type": "code",
   "execution_count": 17,
   "id": "3132b8b7",
   "metadata": {},
   "outputs": [
    {
     "name": "stdout",
     "output_type": "stream",
     "text": [
      "using arange -> tensor([1, 3, 5, 7, 9])\n",
      "using linspace -> tensor([ 1.0000,  3.2500,  5.5000,  7.7500, 10.0000])\n",
      "using eye -> tensor([[1., 0., 0.],\n",
      "        [0., 1., 0.],\n",
      "        [0., 0., 1.]])\n",
      "using full -> tensor([[7, 7, 7],\n",
      "        [7, 7, 7]])\n"
     ]
    }
   ],
   "source": [
    "#other ways\n",
    "#arange \n",
    "print(\"using arange ->\" , torch.arange(1,10,2))\n",
    "      \n",
    "#using linspace\n",
    "print(\"using linspace ->\", torch.linspace(1,10,5))\n",
    "\n",
    "#using eye\n",
    "print(\"using eye ->\", torch.eye(3,3))\n",
    "\n",
    "#using full \n",
    "print(\"using full ->\", torch.full((2,3),7))\n"
   ]
  },
  {
   "cell_type": "markdown",
   "id": "75788f8f",
   "metadata": {},
   "source": [
    "**TENSORS SHAPES**"
   ]
  },
  {
   "cell_type": "code",
   "execution_count": 18,
   "id": "75d47183",
   "metadata": {},
   "outputs": [
    {
     "data": {
      "text/plain": [
       "torch.Size([2, 3])"
      ]
     },
     "execution_count": 18,
     "metadata": {},
     "output_type": "execute_result"
    }
   ],
   "source": [
    "x = torch.tensor([[1,2,3],[4,5,6]])\n",
    "x.shape"
   ]
  },
  {
   "cell_type": "code",
   "execution_count": 19,
   "id": "8d4f7a27",
   "metadata": {},
   "outputs": [
    {
     "data": {
      "text/plain": [
       "tensor([[0, 0, 0],\n",
       "        [0, 0, 0]])"
      ]
     },
     "execution_count": 19,
     "metadata": {},
     "output_type": "execute_result"
    }
   ],
   "source": [
    "torch.empty_like(x)"
   ]
  },
  {
   "cell_type": "code",
   "execution_count": 21,
   "id": "e56b857c",
   "metadata": {},
   "outputs": [
    {
     "data": {
      "text/plain": [
       "tensor([[0, 0, 0],\n",
       "        [0, 0, 0]])"
      ]
     },
     "execution_count": 21,
     "metadata": {},
     "output_type": "execute_result"
    }
   ],
   "source": [
    "torch.zeros_like(x)"
   ]
  },
  {
   "cell_type": "code",
   "execution_count": 22,
   "id": "bd80dace",
   "metadata": {},
   "outputs": [
    {
     "data": {
      "text/plain": [
       "tensor([[1, 1, 1],\n",
       "        [1, 1, 1]])"
      ]
     },
     "execution_count": 22,
     "metadata": {},
     "output_type": "execute_result"
    }
   ],
   "source": [
    "torch.ones_like(x)"
   ]
  },
  {
   "cell_type": "code",
   "execution_count": 33,
   "id": "cd04ddce",
   "metadata": {},
   "outputs": [
    {
     "data": {
      "text/plain": [
       "tensor([[0.2239, 0.3023, 0.1784],\n",
       "        [0.8238, 0.5557, 0.9770]])"
      ]
     },
     "execution_count": 33,
     "metadata": {},
     "output_type": "execute_result"
    }
   ],
   "source": [
    "torch.rand_like(x , dtype=torch.float32)"
   ]
  },
  {
   "cell_type": "markdown",
   "id": "5c8aba70",
   "metadata": {},
   "source": [
    "**TENSOR DATA TYPE**"
   ]
  },
  {
   "cell_type": "code",
   "execution_count": 25,
   "id": "7086fdf0",
   "metadata": {},
   "outputs": [
    {
     "data": {
      "text/plain": [
       "torch.int64"
      ]
     },
     "execution_count": 25,
     "metadata": {},
     "output_type": "execute_result"
    }
   ],
   "source": [
    "x.dtype"
   ]
  },
  {
   "cell_type": "code",
   "execution_count": 27,
   "id": "a19e9143",
   "metadata": {},
   "outputs": [
    {
     "data": {
      "text/plain": [
       "tensor([1, 2, 3], dtype=torch.int32)"
      ]
     },
     "execution_count": 27,
     "metadata": {},
     "output_type": "execute_result"
    }
   ],
   "source": [
    "#assign data type\n",
    "torch.tensor([1.0,2.0,3.0], dtype=torch.int32)"
   ]
  },
  {
   "cell_type": "code",
   "execution_count": 28,
   "id": "3c08769b",
   "metadata": {},
   "outputs": [
    {
     "data": {
      "text/plain": [
       "tensor([1., 2., 3.], dtype=torch.float64)"
      ]
     },
     "execution_count": 28,
     "metadata": {},
     "output_type": "execute_result"
    }
   ],
   "source": [
    "torch.tensor([1.0,2.0,3.0], dtype=torch.float64)"
   ]
  },
  {
   "cell_type": "code",
   "execution_count": 29,
   "id": "90aa50a0",
   "metadata": {},
   "outputs": [
    {
     "data": {
      "text/plain": [
       "tensor([[1., 2., 3.],\n",
       "        [4., 5., 6.]], dtype=torch.float64)"
      ]
     },
     "execution_count": 29,
     "metadata": {},
     "output_type": "execute_result"
    }
   ],
   "source": [
    "x.to(torch.float64)"
   ]
  },
  {
   "cell_type": "code",
   "execution_count": 34,
   "id": "96b4cf1f",
   "metadata": {},
   "outputs": [
    {
     "data": {
      "text/plain": [
       "tensor([[3, 4, 5],\n",
       "        [6, 7, 8]])"
      ]
     },
     "execution_count": 34,
     "metadata": {},
     "output_type": "execute_result"
    }
   ],
   "source": [
    "x+2"
   ]
  },
  {
   "cell_type": "code",
   "execution_count": 35,
   "id": "43070e13",
   "metadata": {},
   "outputs": [
    {
     "data": {
      "text/plain": [
       "tensor([[-1,  0,  1],\n",
       "        [ 2,  3,  4]])"
      ]
     },
     "execution_count": 35,
     "metadata": {},
     "output_type": "execute_result"
    }
   ],
   "source": [
    "x-2"
   ]
  },
  {
   "cell_type": "code",
   "execution_count": 36,
   "id": "43e7118d",
   "metadata": {},
   "outputs": [
    {
     "data": {
      "text/plain": [
       "tensor([[ 3,  6,  9],\n",
       "        [12, 15, 18]])"
      ]
     },
     "execution_count": 36,
     "metadata": {},
     "output_type": "execute_result"
    }
   ],
   "source": [
    "x*3"
   ]
  },
  {
   "cell_type": "code",
   "execution_count": 37,
   "id": "23c274ce",
   "metadata": {},
   "outputs": [
    {
     "data": {
      "text/plain": [
       "tensor([[0.3333, 0.6667, 1.0000],\n",
       "        [1.3333, 1.6667, 2.0000]])"
      ]
     },
     "execution_count": 37,
     "metadata": {},
     "output_type": "execute_result"
    }
   ],
   "source": [
    "x/3"
   ]
  },
  {
   "cell_type": "code",
   "execution_count": 38,
   "id": "56b3f194",
   "metadata": {},
   "outputs": [
    {
     "data": {
      "text/plain": [
       "tensor([[ 33.3333,  66.6667, 100.0000],\n",
       "        [133.3333, 166.6667, 200.0000]])"
      ]
     },
     "execution_count": 38,
     "metadata": {},
     "output_type": "execute_result"
    }
   ],
   "source": [
    "(x*100)/3"
   ]
  },
  {
   "cell_type": "markdown",
   "id": "45340724",
   "metadata": {},
   "source": [
    "Element Wise Operation"
   ]
  },
  {
   "cell_type": "code",
   "execution_count": 39,
   "id": "c8e4c095",
   "metadata": {},
   "outputs": [],
   "source": [
    "a = torch.rand(2,3)\n",
    "b = torch.rand(2,3)"
   ]
  },
  {
   "cell_type": "code",
   "execution_count": 41,
   "id": "f31c3132",
   "metadata": {},
   "outputs": [
    {
     "name": "stdout",
     "output_type": "stream",
     "text": [
      "tensor([[0.4440, 0.9478, 0.7445],\n",
      "        [0.4892, 0.2426, 0.7003]])\n",
      "tensor([[0.5277, 0.2472, 0.7909],\n",
      "        [0.4235, 0.0169, 0.2209]])\n"
     ]
    }
   ],
   "source": [
    "print(a)\n",
    "print(b)\n"
   ]
  },
  {
   "cell_type": "code",
   "execution_count": 42,
   "id": "2d0c77ea",
   "metadata": {},
   "outputs": [
    {
     "data": {
      "text/plain": [
       "tensor([[0.9717, 1.1950, 1.5354],\n",
       "        [0.9127, 0.2595, 0.9212]])"
      ]
     },
     "execution_count": 42,
     "metadata": {},
     "output_type": "execute_result"
    }
   ],
   "source": [
    "a+b"
   ]
  },
  {
   "cell_type": "code",
   "execution_count": 43,
   "id": "3dccdefe",
   "metadata": {},
   "outputs": [
    {
     "data": {
      "text/plain": [
       "tensor([[-0.0837,  0.7007, -0.0464],\n",
       "        [ 0.0657,  0.2257,  0.4794]])"
      ]
     },
     "execution_count": 43,
     "metadata": {},
     "output_type": "execute_result"
    }
   ],
   "source": [
    "a-b"
   ]
  },
  {
   "cell_type": "code",
   "execution_count": 44,
   "id": "4d5da85d",
   "metadata": {},
   "outputs": [
    {
     "data": {
      "text/plain": [
       "tensor([[0.2343, 0.2343, 0.5888],\n",
       "        [0.2072, 0.0041, 0.1547]])"
      ]
     },
     "execution_count": 44,
     "metadata": {},
     "output_type": "execute_result"
    }
   ],
   "source": [
    "a*b"
   ]
  },
  {
   "cell_type": "code",
   "execution_count": 45,
   "id": "fbf3510a",
   "metadata": {},
   "outputs": [
    {
     "data": {
      "text/plain": [
       "tensor([[ 0.8415,  3.8346,  0.9413],\n",
       "        [ 1.1552, 14.3533,  3.1705]])"
      ]
     },
     "execution_count": 45,
     "metadata": {},
     "output_type": "execute_result"
    }
   ],
   "source": [
    "a/b"
   ]
  },
  {
   "cell_type": "code",
   "execution_count": 46,
   "id": "3c927a8e",
   "metadata": {},
   "outputs": [
    {
     "data": {
      "text/plain": [
       "tensor([[0.6515, 0.9868, 0.7919],\n",
       "        [0.7388, 0.9763, 0.9243]])"
      ]
     },
     "execution_count": 46,
     "metadata": {},
     "output_type": "execute_result"
    }
   ],
   "source": [
    "a**b"
   ]
  },
  {
   "cell_type": "code",
   "execution_count": 47,
   "id": "390b8abb",
   "metadata": {},
   "outputs": [
    {
     "data": {
      "text/plain": [
       "tensor([[0.4440, 0.2063, 0.7445],\n",
       "        [0.0657, 0.0060, 0.0377]])"
      ]
     },
     "execution_count": 47,
     "metadata": {},
     "output_type": "execute_result"
    }
   ],
   "source": [
    "a%b"
   ]
  },
  {
   "cell_type": "code",
   "execution_count": 48,
   "id": "44244b3e",
   "metadata": {},
   "outputs": [],
   "source": [
    "c =torch.tensor([1 , -2 , 3 , -4   ])"
   ]
  },
  {
   "cell_type": "code",
   "execution_count": 49,
   "id": "8613fa98",
   "metadata": {},
   "outputs": [
    {
     "data": {
      "text/plain": [
       "tensor([1, 2, 3, 4])"
      ]
     },
     "execution_count": 49,
     "metadata": {},
     "output_type": "execute_result"
    }
   ],
   "source": [
    "torch.abs(c)"
   ]
  },
  {
   "cell_type": "code",
   "execution_count": 50,
   "id": "8c44f32b",
   "metadata": {},
   "outputs": [
    {
     "data": {
      "text/plain": [
       "tensor([-1,  2, -3,  4])"
      ]
     },
     "execution_count": 50,
     "metadata": {},
     "output_type": "execute_result"
    }
   ],
   "source": [
    "torch.neg(c)"
   ]
  },
  {
   "cell_type": "code",
   "execution_count": 51,
   "id": "18805eed",
   "metadata": {},
   "outputs": [],
   "source": [
    "d = torch.tensor([1.9 , -2.5 , 3.1 , -4.6   ])"
   ]
  },
  {
   "cell_type": "code",
   "execution_count": 52,
   "id": "394257f4",
   "metadata": {},
   "outputs": [
    {
     "data": {
      "text/plain": [
       "tensor([ 2., -2.,  3., -5.])"
      ]
     },
     "execution_count": 52,
     "metadata": {},
     "output_type": "execute_result"
    }
   ],
   "source": [
    "torch.round(d)"
   ]
  },
  {
   "cell_type": "code",
   "execution_count": 53,
   "id": "1c90b618",
   "metadata": {},
   "outputs": [
    {
     "data": {
      "text/plain": [
       "tensor([ 2., -2.,  4., -4.])"
      ]
     },
     "execution_count": 53,
     "metadata": {},
     "output_type": "execute_result"
    }
   ],
   "source": [
    "torch.ceil(d)"
   ]
  },
  {
   "cell_type": "code",
   "execution_count": 55,
   "id": "33a06c2e",
   "metadata": {},
   "outputs": [],
   "source": [
    "#matrix operations\n",
    "f = torch.randint(size =(2,3), low=1 , high=10)\n",
    "g = torch.randint(size =(3,2), low=1 , high=10)"
   ]
  },
  {
   "cell_type": "code",
   "execution_count": 56,
   "id": "c4e37538",
   "metadata": {},
   "outputs": [
    {
     "name": "stdout",
     "output_type": "stream",
     "text": [
      "tensor([[7, 4, 9],\n",
      "        [3, 7, 6]])\n",
      "tensor([[7, 4],\n",
      "        [1, 7],\n",
      "        [5, 4]])\n"
     ]
    }
   ],
   "source": [
    "print(f)\n",
    "print(g)"
   ]
  },
  {
   "cell_type": "code",
   "execution_count": 57,
   "id": "efe5d701",
   "metadata": {},
   "outputs": [
    {
     "data": {
      "text/plain": [
       "tensor([[98, 92],\n",
       "        [58, 85]])"
      ]
     },
     "execution_count": 57,
     "metadata": {},
     "output_type": "execute_result"
    }
   ],
   "source": [
    "#matrix multiplication \n",
    "torch.matmul(f,g)"
   ]
  },
  {
   "cell_type": "code",
   "execution_count": 58,
   "id": "89662b0b",
   "metadata": {},
   "outputs": [],
   "source": [
    "vector1 = torch.tensor([1,2])\n",
    "vector2 = torch.tensor([3,4])"
   ]
  },
  {
   "cell_type": "code",
   "execution_count": 59,
   "id": "53e59201",
   "metadata": {},
   "outputs": [
    {
     "data": {
      "text/plain": [
       "tensor(11)"
      ]
     },
     "execution_count": 59,
     "metadata": {},
     "output_type": "execute_result"
    }
   ],
   "source": [
    "#dot product\n",
    "torch.dot(vector1,vector2)"
   ]
  },
  {
   "cell_type": "code",
   "execution_count": 60,
   "id": "27dd5120",
   "metadata": {},
   "outputs": [
    {
     "data": {
      "text/plain": [
       "tensor([[7, 3],\n",
       "        [4, 7],\n",
       "        [9, 6]])"
      ]
     },
     "execution_count": 60,
     "metadata": {},
     "output_type": "execute_result"
    }
   ],
   "source": [
    "#transpose\n",
    "torch.t(f)"
   ]
  },
  {
   "cell_type": "code",
   "execution_count": 61,
   "id": "b0d7629d",
   "metadata": {},
   "outputs": [
    {
     "data": {
      "text/plain": [
       "tensor([[7., 2., 1.],\n",
       "        [1., 4., 6.]])"
      ]
     },
     "execution_count": 61,
     "metadata": {},
     "output_type": "execute_result"
    }
   ],
   "source": [
    "h = torch.randint(size =(2,3), low=1 , high=10 , dtype=torch.float32 )\n",
    "h"
   ]
  },
  {
   "cell_type": "code",
   "execution_count": 62,
   "id": "b50c3d60",
   "metadata": {},
   "outputs": [
    {
     "data": {
      "text/plain": [
       "tensor(2421.)"
      ]
     },
     "execution_count": 62,
     "metadata": {},
     "output_type": "execute_result"
    }
   ],
   "source": [
    "#determinant\n",
    "torch.det(torch.matmul(h,torch.t(h)))"
   ]
  },
  {
   "cell_type": "code",
   "execution_count": 63,
   "id": "b5670434",
   "metadata": {},
   "outputs": [
    {
     "data": {
      "text/plain": [
       "tensor([[ 0.0219, -0.0087],\n",
       "        [-0.0087,  0.0223]])"
      ]
     },
     "execution_count": 63,
     "metadata": {},
     "output_type": "execute_result"
    }
   ],
   "source": [
    "#inverse\n",
    "torch.inverse(torch.matmul(h,torch.t(h)))"
   ]
  },
  {
   "cell_type": "markdown",
   "id": "20cc74c7",
   "metadata": {},
   "source": [
    "**Comparision Operations**"
   ]
  },
  {
   "cell_type": "code",
   "execution_count": 64,
   "id": "b584e3ac",
   "metadata": {},
   "outputs": [],
   "source": [
    "i = torch.randint(size =(2,3), low=1 , high=10)\n",
    "j = torch.randint(size =(2,3), low=1 , high=10)"
   ]
  },
  {
   "cell_type": "code",
   "execution_count": 65,
   "id": "f4d24ac8",
   "metadata": {},
   "outputs": [
    {
     "name": "stdout",
     "output_type": "stream",
     "text": [
      "tensor([[6, 6, 1],\n",
      "        [4, 1, 3]])\n",
      "tensor([[7, 2, 2],\n",
      "        [8, 4, 1]])\n"
     ]
    }
   ],
   "source": [
    "print(i)\n",
    "print(j)"
   ]
  },
  {
   "cell_type": "code",
   "execution_count": 67,
   "id": "c647447d",
   "metadata": {},
   "outputs": [
    {
     "data": {
      "text/plain": [
       "tensor([[True, True, True],\n",
       "        [True, True, True]])"
      ]
     },
     "execution_count": 67,
     "metadata": {},
     "output_type": "execute_result"
    }
   ],
   "source": [
    "#greater than \n",
    "i>j\n",
    "\n",
    "\n",
    "#less than \n",
    "i<j\n",
    "\n",
    "#equal to\n",
    "i==j\n",
    "#not equal to\n",
    "i!=j"
   ]
  },
  {
   "cell_type": "code",
   "execution_count": 68,
   "id": "a4be0071",
   "metadata": {},
   "outputs": [
    {
     "data": {
      "text/plain": [
       "tensor([[1.7918, 1.7918, 0.0000],\n",
       "        [1.3863, 0.0000, 1.0986]])"
      ]
     },
     "execution_count": 68,
     "metadata": {},
     "output_type": "execute_result"
    }
   ],
   "source": [
    "torch.log(i)"
   ]
  },
  {
   "cell_type": "code",
   "execution_count": 69,
   "id": "de4ab3e9",
   "metadata": {},
   "outputs": [
    {
     "data": {
      "text/plain": [
       "tensor([[2.4495, 2.4495, 1.0000],\n",
       "        [2.0000, 1.0000, 1.7321]])"
      ]
     },
     "execution_count": 69,
     "metadata": {},
     "output_type": "execute_result"
    }
   ],
   "source": [
    "torch.sqrt(i)"
   ]
  },
  {
   "cell_type": "code",
   "execution_count": 70,
   "id": "9017a5f2",
   "metadata": {},
   "outputs": [
    {
     "data": {
      "text/plain": [
       "tensor([[0.9975, 0.9975, 0.7311],\n",
       "        [0.9820, 0.7311, 0.9526]])"
      ]
     },
     "execution_count": 70,
     "metadata": {},
     "output_type": "execute_result"
    }
   ],
   "source": [
    "torch.sigmoid(i)"
   ]
  },
  {
   "cell_type": "code",
   "execution_count": 71,
   "id": "e8115433",
   "metadata": {},
   "outputs": [
    {
     "data": {
      "text/plain": [
       "tensor([[6, 6, 1],\n",
       "        [4, 1, 3]])"
      ]
     },
     "execution_count": 71,
     "metadata": {},
     "output_type": "execute_result"
    }
   ],
   "source": [
    "torch.relu(i)"
   ]
  },
  {
   "cell_type": "code",
   "execution_count": 72,
   "id": "a69f03fb",
   "metadata": {},
   "outputs": [],
   "source": [
    "l = i.clone()"
   ]
  },
  {
   "cell_type": "code",
   "execution_count": 73,
   "id": "15432f23",
   "metadata": {},
   "outputs": [
    {
     "data": {
      "text/plain": [
       "tensor([[6, 6, 1],\n",
       "        [4, 1, 3]])"
      ]
     },
     "execution_count": 73,
     "metadata": {},
     "output_type": "execute_result"
    }
   ],
   "source": [
    "l"
   ]
  },
  {
   "cell_type": "code",
   "execution_count": 74,
   "id": "fa21f44e",
   "metadata": {},
   "outputs": [
    {
     "data": {
      "text/plain": [
       "tensor([[6, 6, 1],\n",
       "        [4, 1, 3]])"
      ]
     },
     "execution_count": 74,
     "metadata": {},
     "output_type": "execute_result"
    }
   ],
   "source": [
    "i"
   ]
  },
  {
   "cell_type": "code",
   "execution_count": 75,
   "id": "c00fba71",
   "metadata": {},
   "outputs": [],
   "source": [
    "i[0][0] = 16"
   ]
  },
  {
   "cell_type": "code",
   "execution_count": 76,
   "id": "d2f27986",
   "metadata": {},
   "outputs": [
    {
     "data": {
      "text/plain": [
       "tensor([[16,  6,  1],\n",
       "        [ 4,  1,  3]])"
      ]
     },
     "execution_count": 76,
     "metadata": {},
     "output_type": "execute_result"
    }
   ],
   "source": [
    "i"
   ]
  },
  {
   "cell_type": "code",
   "execution_count": 77,
   "id": "03361fae",
   "metadata": {},
   "outputs": [
    {
     "data": {
      "text/plain": [
       "tensor([[6, 6, 1],\n",
       "        [4, 1, 3]])"
      ]
     },
     "execution_count": 77,
     "metadata": {},
     "output_type": "execute_result"
    }
   ],
   "source": [
    "l"
   ]
  },
  {
   "cell_type": "code",
   "execution_count": 78,
   "id": "aee1fb07",
   "metadata": {},
   "outputs": [
    {
     "data": {
      "text/plain": [
       "False"
      ]
     },
     "execution_count": 78,
     "metadata": {},
     "output_type": "execute_result"
    }
   ],
   "source": [
    "torch.cuda.is_available()"
   ]
  },
  {
   "cell_type": "code",
   "execution_count": 79,
   "id": "2f995190",
   "metadata": {},
   "outputs": [],
   "source": [
    "p = torch.ones(4,4)"
   ]
  },
  {
   "cell_type": "code",
   "execution_count": 80,
   "id": "6ea9f431",
   "metadata": {},
   "outputs": [
    {
     "data": {
      "text/plain": [
       "tensor([[1., 1., 1., 1.],\n",
       "        [1., 1., 1., 1.],\n",
       "        [1., 1., 1., 1.],\n",
       "        [1., 1., 1., 1.]])"
      ]
     },
     "execution_count": 80,
     "metadata": {},
     "output_type": "execute_result"
    }
   ],
   "source": [
    "p"
   ]
  },
  {
   "cell_type": "code",
   "execution_count": 81,
   "id": "33e4da7c",
   "metadata": {},
   "outputs": [
    {
     "data": {
      "text/plain": [
       "tensor([[1., 1., 1., 1., 1., 1., 1., 1.],\n",
       "        [1., 1., 1., 1., 1., 1., 1., 1.]])"
      ]
     },
     "execution_count": 81,
     "metadata": {},
     "output_type": "execute_result"
    }
   ],
   "source": [
    "p.reshape(2,8)"
   ]
  },
  {
   "cell_type": "code",
   "execution_count": 83,
   "id": "8c83f5ad",
   "metadata": {},
   "outputs": [
    {
     "data": {
      "text/plain": [
       "tensor([1., 1., 1., 1., 1., 1., 1., 1., 1., 1., 1., 1., 1., 1., 1., 1.])"
      ]
     },
     "execution_count": 83,
     "metadata": {},
     "output_type": "execute_result"
    }
   ],
   "source": [
    "p.flatten()"
   ]
  },
  {
   "cell_type": "code",
   "execution_count": 84,
   "id": "f07dad46",
   "metadata": {},
   "outputs": [
    {
     "data": {
      "text/plain": [
       "tensor([[[0.7775, 0.6179, 0.3379, 0.2170],\n",
       "         [0.9454, 0.7116, 0.1157, 0.6574],\n",
       "         [0.3451, 0.0453, 0.9798, 0.5548]],\n",
       "\n",
       "        [[0.6868, 0.4920, 0.0748, 0.9605],\n",
       "         [0.3271, 0.0103, 0.9516, 0.2855],\n",
       "         [0.2324, 0.9141, 0.7668, 0.1659]]])"
      ]
     },
     "execution_count": 84,
     "metadata": {},
     "output_type": "execute_result"
    }
   ],
   "source": [
    "b = torch.rand(2,3,4)\n",
    "b"
   ]
  },
  {
   "cell_type": "code",
   "execution_count": 85,
   "id": "453fc75d",
   "metadata": {},
   "outputs": [
    {
     "data": {
      "text/plain": [
       "tensor([[[0.7775, 0.9454, 0.3451],\n",
       "         [0.6868, 0.3271, 0.2324]],\n",
       "\n",
       "        [[0.6179, 0.7116, 0.0453],\n",
       "         [0.4920, 0.0103, 0.9141]],\n",
       "\n",
       "        [[0.3379, 0.1157, 0.9798],\n",
       "         [0.0748, 0.9516, 0.7668]],\n",
       "\n",
       "        [[0.2170, 0.6574, 0.5548],\n",
       "         [0.9605, 0.2855, 0.1659]]])"
      ]
     },
     "execution_count": 85,
     "metadata": {},
     "output_type": "execute_result"
    }
   ],
   "source": [
    "b.permute(2,0,1)"
   ]
  },
  {
   "cell_type": "code",
   "execution_count": 86,
   "id": "952f2364",
   "metadata": {},
   "outputs": [],
   "source": [
    "#unsqueeze\n",
    "c = torch.rand(226,226,3)"
   ]
  },
  {
   "cell_type": "code",
   "execution_count": 87,
   "id": "4f3a6d39",
   "metadata": {},
   "outputs": [
    {
     "data": {
      "text/plain": [
       "tensor([[[4.3933e-01, 2.2428e-01, 8.9348e-01],\n",
       "         [4.9744e-02, 1.7798e-01, 3.0110e-01],\n",
       "         [1.8930e-01, 9.1860e-01, 2.1314e-01],\n",
       "         ...,\n",
       "         [8.2998e-02, 4.4943e-01, 1.5051e-01],\n",
       "         [7.6906e-01, 8.7778e-01, 4.8540e-02],\n",
       "         [3.3420e-01, 8.5171e-01, 4.7959e-01]],\n",
       "\n",
       "        [[3.2434e-01, 1.8597e-01, 3.4846e-01],\n",
       "         [7.8238e-01, 5.8968e-01, 3.0883e-01],\n",
       "         [3.3913e-01, 2.7369e-01, 2.1418e-01],\n",
       "         ...,\n",
       "         [1.7131e-02, 7.0495e-01, 4.7828e-01],\n",
       "         [2.9134e-01, 6.0935e-01, 6.4412e-01],\n",
       "         [4.8498e-01, 5.3358e-01, 7.2390e-01]],\n",
       "\n",
       "        [[3.0787e-01, 9.1050e-01, 7.6694e-01],\n",
       "         [9.8230e-01, 7.7509e-01, 6.9012e-01],\n",
       "         [3.7143e-01, 1.6246e-01, 5.4050e-01],\n",
       "         ...,\n",
       "         [6.1446e-01, 4.6134e-01, 5.8670e-02],\n",
       "         [8.9711e-01, 7.0354e-01, 4.2692e-01],\n",
       "         [6.8473e-01, 1.4796e-01, 9.4666e-01]],\n",
       "\n",
       "        ...,\n",
       "\n",
       "        [[7.9036e-04, 7.6589e-01, 1.1013e-01],\n",
       "         [4.9911e-01, 2.1377e-01, 7.5163e-01],\n",
       "         [5.5838e-01, 8.2245e-01, 1.8410e-01],\n",
       "         ...,\n",
       "         [4.3833e-02, 7.7687e-01, 6.4724e-01],\n",
       "         [5.6754e-01, 4.5814e-01, 7.6578e-01],\n",
       "         [8.8435e-01, 4.3510e-01, 9.6384e-01]],\n",
       "\n",
       "        [[2.7662e-01, 2.5849e-02, 4.6299e-01],\n",
       "         [3.8989e-01, 6.7041e-01, 6.9944e-02],\n",
       "         [8.2708e-01, 9.2875e-02, 4.5839e-01],\n",
       "         ...,\n",
       "         [5.2095e-01, 2.3533e-01, 3.7772e-01],\n",
       "         [6.5668e-01, 5.5986e-01, 7.9009e-01],\n",
       "         [1.9441e-03, 8.2080e-01, 6.1556e-01]],\n",
       "\n",
       "        [[5.4009e-01, 8.4487e-01, 5.3847e-01],\n",
       "         [3.9380e-01, 6.8063e-01, 4.7883e-01],\n",
       "         [9.0159e-01, 2.8277e-01, 2.4302e-01],\n",
       "         ...,\n",
       "         [2.1195e-01, 5.1296e-01, 7.3929e-01],\n",
       "         [2.9582e-01, 6.1810e-01, 5.5194e-01],\n",
       "         [5.5840e-01, 9.7553e-01, 8.6280e-01]]])"
      ]
     },
     "execution_count": 87,
     "metadata": {},
     "output_type": "execute_result"
    }
   ],
   "source": [
    "c"
   ]
  },
  {
   "cell_type": "code",
   "execution_count": 89,
   "id": "15465e56",
   "metadata": {},
   "outputs": [
    {
     "data": {
      "text/plain": [
       "torch.Size([226, 226, 1, 3])"
      ]
     },
     "execution_count": 89,
     "metadata": {},
     "output_type": "execute_result"
    }
   ],
   "source": [
    "c.unsqueeze(2).shape"
   ]
  },
  {
   "cell_type": "code",
   "execution_count": 91,
   "id": "45e682c9",
   "metadata": {},
   "outputs": [
    {
     "data": {
      "text/plain": [
       "tensor([[[4.3933e-01, 2.2428e-01, 8.9348e-01],\n",
       "         [4.9744e-02, 1.7798e-01, 3.0110e-01],\n",
       "         [1.8930e-01, 9.1860e-01, 2.1314e-01],\n",
       "         ...,\n",
       "         [8.2998e-02, 4.4943e-01, 1.5051e-01],\n",
       "         [7.6906e-01, 8.7778e-01, 4.8540e-02],\n",
       "         [3.3420e-01, 8.5171e-01, 4.7959e-01]],\n",
       "\n",
       "        [[3.2434e-01, 1.8597e-01, 3.4846e-01],\n",
       "         [7.8238e-01, 5.8968e-01, 3.0883e-01],\n",
       "         [3.3913e-01, 2.7369e-01, 2.1418e-01],\n",
       "         ...,\n",
       "         [1.7131e-02, 7.0495e-01, 4.7828e-01],\n",
       "         [2.9134e-01, 6.0935e-01, 6.4412e-01],\n",
       "         [4.8498e-01, 5.3358e-01, 7.2390e-01]],\n",
       "\n",
       "        [[3.0787e-01, 9.1050e-01, 7.6694e-01],\n",
       "         [9.8230e-01, 7.7509e-01, 6.9012e-01],\n",
       "         [3.7143e-01, 1.6246e-01, 5.4050e-01],\n",
       "         ...,\n",
       "         [6.1446e-01, 4.6134e-01, 5.8670e-02],\n",
       "         [8.9711e-01, 7.0354e-01, 4.2692e-01],\n",
       "         [6.8473e-01, 1.4796e-01, 9.4666e-01]],\n",
       "\n",
       "        ...,\n",
       "\n",
       "        [[7.9036e-04, 7.6589e-01, 1.1013e-01],\n",
       "         [4.9911e-01, 2.1377e-01, 7.5163e-01],\n",
       "         [5.5838e-01, 8.2245e-01, 1.8410e-01],\n",
       "         ...,\n",
       "         [4.3833e-02, 7.7687e-01, 6.4724e-01],\n",
       "         [5.6754e-01, 4.5814e-01, 7.6578e-01],\n",
       "         [8.8435e-01, 4.3510e-01, 9.6384e-01]],\n",
       "\n",
       "        [[2.7662e-01, 2.5849e-02, 4.6299e-01],\n",
       "         [3.8989e-01, 6.7041e-01, 6.9944e-02],\n",
       "         [8.2708e-01, 9.2875e-02, 4.5839e-01],\n",
       "         ...,\n",
       "         [5.2095e-01, 2.3533e-01, 3.7772e-01],\n",
       "         [6.5668e-01, 5.5986e-01, 7.9009e-01],\n",
       "         [1.9441e-03, 8.2080e-01, 6.1556e-01]],\n",
       "\n",
       "        [[5.4009e-01, 8.4487e-01, 5.3847e-01],\n",
       "         [3.9380e-01, 6.8063e-01, 4.7883e-01],\n",
       "         [9.0159e-01, 2.8277e-01, 2.4302e-01],\n",
       "         ...,\n",
       "         [2.1195e-01, 5.1296e-01, 7.3929e-01],\n",
       "         [2.9582e-01, 6.1810e-01, 5.5194e-01],\n",
       "         [5.5840e-01, 9.7553e-01, 8.6280e-01]]])"
      ]
     },
     "execution_count": 91,
     "metadata": {},
     "output_type": "execute_result"
    }
   ],
   "source": [
    "#squeeze\n",
    "c.squeeze()"
   ]
  },
  {
   "cell_type": "code",
   "execution_count": 2,
   "id": "d53fb1df",
   "metadata": {},
   "outputs": [],
   "source": [
    "import torch"
   ]
  },
  {
   "cell_type": "code",
   "execution_count": 16,
   "id": "b9b6d50a",
   "metadata": {},
   "outputs": [],
   "source": [
    "#autograd in pytorch \n",
    "x = torch.tensor(3.0 , requires_grad=True)"
   ]
  },
  {
   "cell_type": "code",
   "execution_count": 17,
   "id": "51be1ec5",
   "metadata": {},
   "outputs": [],
   "source": [
    "y =x**2"
   ]
  },
  {
   "cell_type": "code",
   "execution_count": 18,
   "id": "037b5c50",
   "metadata": {},
   "outputs": [],
   "source": [
    "z = torch.sin(y)"
   ]
  },
  {
   "cell_type": "code",
   "execution_count": 19,
   "id": "2a78cdc6",
   "metadata": {},
   "outputs": [
    {
     "data": {
      "text/plain": [
       "tensor(3., requires_grad=True)"
      ]
     },
     "execution_count": 19,
     "metadata": {},
     "output_type": "execute_result"
    }
   ],
   "source": [
    "x"
   ]
  },
  {
   "cell_type": "code",
   "execution_count": 20,
   "id": "2bd47a9d",
   "metadata": {},
   "outputs": [
    {
     "data": {
      "text/plain": [
       "tensor(9., grad_fn=<PowBackward0>)"
      ]
     },
     "execution_count": 20,
     "metadata": {},
     "output_type": "execute_result"
    }
   ],
   "source": [
    "y"
   ]
  },
  {
   "cell_type": "code",
   "execution_count": 21,
   "id": "f1635567",
   "metadata": {},
   "outputs": [
    {
     "data": {
      "text/plain": [
       "tensor(0.4121, grad_fn=<SinBackward0>)"
      ]
     },
     "execution_count": 21,
     "metadata": {},
     "output_type": "execute_result"
    }
   ],
   "source": [
    "z"
   ]
  },
  {
   "cell_type": "code",
   "execution_count": 22,
   "id": "d6c75f6e",
   "metadata": {},
   "outputs": [
    {
     "data": {
      "text/plain": [
       "(tensor(-5.4668),)"
      ]
     },
     "execution_count": 22,
     "metadata": {},
     "output_type": "execute_result"
    }
   ],
   "source": [
    "torch.autograd.grad(z , x)"
   ]
  },
  {
   "cell_type": "code",
   "execution_count": 23,
   "id": "12eaaada",
   "metadata": {},
   "outputs": [],
   "source": [
    "x = torch.tensor(6.7) #input feature\n",
    "y = torch.tensor(0.0) #true label(binary)\n",
    "\n",
    "w = torch.tensor(1.0) #weight\n",
    "b = torch.tensor(0.0) #bias"
   ]
  },
  {
   "cell_type": "code",
   "execution_count": 24,
   "id": "05b421e7",
   "metadata": {},
   "outputs": [],
   "source": [
    "#binary cross entropy loss for scalar\n",
    "def binary_cross_entropy_loss(prediction , target):\n",
    "    epsilon = 1e-8 #to avoid log(0)\n",
    "    prediction = torch.clamp(prediction , epsilon , 1.0 - epsilon)\n",
    "    return  -(target * torch.log(prediction) + (1 - target) * torch.log(1 - prediction))\n"
   ]
  },
  {
   "cell_type": "code",
   "execution_count": 25,
   "id": "82f4975a",
   "metadata": {},
   "outputs": [],
   "source": [
    "#forward pass\n",
    "z = w * x + b  #linear transformation\n",
    "y_pred = torch.sigmoid(z)  #activation function\n",
    "\n",
    "#compute binary cross entropy loss\n",
    "loss = binary_cross_entropy_loss(y_pred , y)\n"
   ]
  },
  {
   "cell_type": "code",
   "execution_count": 26,
   "id": "4332f41b",
   "metadata": {},
   "outputs": [
    {
     "data": {
      "text/plain": [
       "tensor(6.7012)"
      ]
     },
     "execution_count": 26,
     "metadata": {},
     "output_type": "execute_result"
    }
   ],
   "source": [
    "loss"
   ]
  },
  {
   "cell_type": "code",
   "execution_count": 27,
   "id": "6ef010d0",
   "metadata": {},
   "outputs": [
    {
     "data": {
      "text/plain": [
       "(tensor(6.6918), tensor(0.9988))"
      ]
     },
     "execution_count": 27,
     "metadata": {},
     "output_type": "execute_result"
    }
   ],
   "source": [
    "#derivatives \n",
    "#1. dl/d(y_pred) : loss wrt y_pred\n",
    "dloss_dy_pred = (y_pred -y)/(y_pred * (1 - y_pred))\n",
    "\n",
    "#2. d(y_pred)/dz : y_pred wrt z(sigmoid derivative)\n",
    "dy_pred_dz = y_pred * (1 - y_pred)\n",
    "\n",
    "#3. dz/dw : z wrt w\n",
    "dz_dw = x\n",
    "#4 dz/db : z wrt b\n",
    "dz_db = 1\n",
    "\n",
    "dl_dw = dloss_dy_pred * dy_pred_dz * dz_dw\n",
    "dl_db = dloss_dy_pred * dy_pred_dz * dz_db\n",
    "dl_dw , dl_db"
   ]
  },
  {
   "cell_type": "code",
   "execution_count": 28,
   "id": "b0f10a6e",
   "metadata": {},
   "outputs": [
    {
     "name": "stdout",
     "output_type": "stream",
     "text": [
      "Mannual Gradients of loss w.r.t weight (dw) : 6.691762447357178\n",
      "Mannual Gradients of loss w.r.t bias (db) : 0.998770534992218\n"
     ]
    }
   ],
   "source": [
    "print(f\"Mannual Gradients of loss w.r.t weight (dw) : {dl_dw}\")\n",
    "print(f\"Mannual Gradients of loss w.r.t bias (db) : {dl_db}\")"
   ]
  },
  {
   "cell_type": "code",
   "execution_count": 29,
   "id": "396b4824",
   "metadata": {},
   "outputs": [
    {
     "data": {
      "text/plain": [
       "tensor(3., requires_grad=True)"
      ]
     },
     "execution_count": 29,
     "metadata": {},
     "output_type": "execute_result"
    }
   ],
   "source": [
    "x = torch.tensor(3.0 , requires_grad=True)\n",
    "x"
   ]
  },
  {
   "cell_type": "code",
   "execution_count": 30,
   "id": "1726645c",
   "metadata": {},
   "outputs": [
    {
     "data": {
      "text/plain": [
       "tensor(9.)"
      ]
     },
     "execution_count": 30,
     "metadata": {},
     "output_type": "execute_result"
    }
   ],
   "source": [
    "with torch.no_grad():\n",
    "    y = x**2\n",
    "y"
   ]
  },
  {
   "cell_type": "code",
   "execution_count": null,
   "id": "44745034",
   "metadata": {},
   "outputs": [],
   "source": []
  }
 ],
 "metadata": {
  "kernelspec": {
   "display_name": "myenv2",
   "language": "python",
   "name": "python3"
  },
  "language_info": {
   "codemirror_mode": {
    "name": "ipython",
    "version": 3
   },
   "file_extension": ".py",
   "mimetype": "text/x-python",
   "name": "python",
   "nbconvert_exporter": "python",
   "pygments_lexer": "ipython3",
   "version": "3.10.18"
  }
 },
 "nbformat": 4,
 "nbformat_minor": 5
}
